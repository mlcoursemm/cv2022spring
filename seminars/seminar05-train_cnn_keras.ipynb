{
  "cells": [
    {
      "cell_type": "markdown",
      "metadata": {
        "id": "i2Ywxlb8mwVG"
      },
      "source": [
        "# Построение и обучение сверточной нейросети на Keras\n",
        "\n",
        "## Цикл обучения\n",
        "1. Подготовить данные \n",
        "2. Реализовать архитектуру модели\n",
        "3. Задать процедуру оптимизации\n",
        "4. Обучить\n",
        "5. Проверить"
      ]
    },
    {
      "cell_type": "markdown",
      "metadata": {
        "id": "7IHlGFAKoh6m"
      },
      "source": [
        "### Пример - обучение сверточной сети для MNIST\n",
        "\n",
        "* Загрузка необходимых модулей\n",
        "* Основные типы подмодулей из keras:\n",
        "  * model - для компиляции архитектуры, функции потерь и оптимизатора воедино\n",
        "  * layers - разные типы слоев (и сверточные, и несверточные)\n",
        "  * datasets - содержит предобработанные небольшие базы данных"
      ]
    },
    {
      "cell_type": "code",
      "execution_count": null,
      "metadata": {
        "id": "lR3w46_VZFO6"
      },
      "outputs": [],
      "source": [
        "import numpy as np\n",
        "np.random.seed(12345)  # for reproducibility\n",
        "\n",
        "import keras \n",
        "from keras.models import Model # compile model\n",
        "from keras.layers import Dense, Flatten, Input # non-conv layeers\n",
        "from keras.layers import Conv2D, MaxPooling2D # conv layers\n",
        "from keras.utils import np_utils # one-hot encoding\n",
        "from keras.datasets import mnist # preprocessed dataset\n",
        " \n",
        "import matplotlib.pyplot as plt # visualization"
      ]
    },
    {
      "cell_type": "markdown",
      "metadata": {
        "id": "ym73WM7qpsCU"
      },
      "source": [
        "* Загружаем предобработанную БД изображений цифр (0-9) в оттенках серого: MNIST\n",
        "* MNIST содержит 60.000 изображений для обучения (по 6.000 для каждой цифры) и 10.000 для тестирования (по 1.000 для каждой цифры)"
      ]
    },
    {
      "cell_type": "code",
      "execution_count": null,
      "metadata": {
        "id": "5pGhvY89ZFPC"
      },
      "outputs": [],
      "source": [
        "(X_train, y_train), (X_test, y_test) = mnist.load_data()\n",
        "print(X_train.shape, y_train.shape, X_test.shape, y_test.shape)"
      ]
    },
    {
      "cell_type": "markdown",
      "metadata": {
        "id": "Z6EElx5_qUbn"
      },
      "source": [
        "* Делаем дальнейшую предобработку данных:\n",
        "  * Добавляем канал цвета (вторым), в данном случае он всегда будет содержать одну размерность, но для цветных изображений это будет уже 3 (RGB)\n",
        "  * Меняем тип с uint8 на float32 и шкалируем в диапазон [0,1]"
      ]
    },
    {
      "cell_type": "code",
      "execution_count": null,
      "metadata": {
        "id": "qL-CADgMZFPD"
      },
      "outputs": [],
      "source": [
        "# NHW -> NCHW\n",
        "X_train = X_train.reshape(X_train.shape[0], 1, 28, 28)\n",
        "X_test = X_test.reshape(X_test.shape[0], 1, 28, 28)\n",
        "# Byte -> [0,1]\n",
        "X_train = X_train.astype('float32')\n",
        "X_test = X_test.astype('float32')\n",
        "X_train /= 255\n",
        "X_test /= 255\n",
        "\n",
        "# Check range and type of input data\n",
        "print(f'Min = {np.amin(X_train)} Max = {np.amax(X_train)} Type = {X_train.dtype}')"
      ]
    },
    {
      "cell_type": "markdown",
      "metadata": {
        "id": "3fw5N7CLrLLm"
      },
      "source": [
        "* Для функции потерь типа \"перекрестная энтропия\" делаем унитарное кодирование меток с помощью вспомогательной функции"
      ]
    },
    {
      "cell_type": "code",
      "execution_count": null,
      "metadata": {
        "id": "W0UF4XJTrLYt"
      },
      "outputs": [],
      "source": [
        "# one-hot encoding\n",
        "Y_train = np_utils.to_categorical(y_train, 10)\n",
        "Y_test = np_utils.to_categorical(y_test, 10)"
      ]
    },
    {
      "cell_type": "markdown",
      "metadata": {
        "id": "aAgFeQRXrivi"
      },
      "source": [
        "* Посмотрим на случайное изображение с номером 12345"
      ]
    },
    {
      "cell_type": "code",
      "execution_count": null,
      "metadata": {
        "id": "BtXB6MlkZFPE"
      },
      "outputs": [],
      "source": [
        "index = 12345\n",
        "im = X_train[index, 0, :, :]\n",
        "plt.imshow(im)\n",
        "plt.show()"
      ]
    },
    {
      "cell_type": "markdown",
      "metadata": {
        "id": "NZSMqhsir1ZT"
      },
      "source": [
        "* Проверим его метку (как в обычном кодировании, так и в унитарном)"
      ]
    },
    {
      "cell_type": "code",
      "execution_count": null,
      "metadata": {
        "id": "CzrpYkYkr1vk"
      },
      "outputs": [],
      "source": [
        "y_usual = y_train[index]\n",
        "y_categorical = Y_train[index]\n",
        "y_categorical_as_usual = np.argmax(y_categorical)\n",
        "print(f'Usual label: {y_usual}')\n",
        "print(f'Categorical label: {y_categorical}')\n",
        "print(f'Categorical -> usual label: {y_categorical_as_usual}')"
      ]
    },
    {
      "cell_type": "markdown",
      "metadata": {
        "id": "qzZ1iapvuDw2"
      },
      "source": [
        "* Задаем архитектуру сети с помощью стандартных слоев\n",
        "* Процедура задания в функциональном стиле: сеть = новый_слой(сеть)\n",
        "* Можно задавать имя слоя с помощью параметра name\n",
        "* В самом конце задаем формальный вход(ы) и выход(ы)"
      ]
    },
    {
      "cell_type": "code",
      "execution_count": null,
      "metadata": {
        "id": "cYNPXUkAZFPE"
      },
      "outputs": [],
      "source": [
        "# Input\n",
        "input_image = Input(shape=(1, 28, 28))\n",
        "# Convolutions: take into account that can use activations without additional layer\n",
        "conv1 = Conv2D(filters=32, kernel_size=(3, 3), activation='relu', data_format='channels_first')(input_image)\n",
        "conv2 = Conv2D(filters=32, kernel_size=(3, 3), activation='relu', data_format='channels_first')(conv1)\n",
        "# Pooling\n",
        "pool1 = MaxPooling2D(pool_size=(2,2), data_format='channels_first')(conv2)\n",
        "# Flatten in order to have later FC\n",
        "flatten = Flatten(name='My_flatten')(pool1)\n",
        "# Fully connected layer1\n",
        "dense1 = Dense(128, activation='relu')(flatten)\n",
        "# Fully connected layer2 + SoftMax\n",
        "dense2 = Dense(10, activation='softmax')(dense1)\n",
        "# Input/output\n",
        "model = Model(inputs=input_image, outputs=dense2)"
      ]
    },
    {
      "cell_type": "markdown",
      "metadata": {
        "id": "xBoE42L8vFxd"
      },
      "source": [
        "* Можно посмотреть на краткую сводку по модели с помощью summary()\n",
        "* Первая размерность - пакетная - будет обозначена как None\n",
        "* Посмотрим на число параметров\n",
        "* Также автоматически будут присвоены имена всем слоям, которым не было в явном порядке присвоено имя"
      ]
    },
    {
      "cell_type": "code",
      "execution_count": null,
      "metadata": {
        "id": "bePC8nEtZFPF"
      },
      "outputs": [],
      "source": [
        "model.summary()"
      ]
    },
    {
      "cell_type": "markdown",
      "metadata": {
        "id": "GBm5L_N7wiDD"
      },
      "source": [
        "* Можно сохранить архитектуру сети как картинку"
      ]
    },
    {
      "cell_type": "code",
      "execution_count": null,
      "metadata": {
        "id": "olotM3PPZFPF"
      },
      "outputs": [],
      "source": [
        "from keras.utils.vis_utils import plot_model\n",
        "plot_model(model, to_file='model.png', show_shapes=True)"
      ]
    },
    {
      "cell_type": "markdown",
      "metadata": {
        "id": "a0xutlzJxx_M"
      },
      "source": [
        "* Теперь \"компилируем\" модель, а именно задаем:\n",
        "  * Функцию потерь\n",
        "  * Оптимизатор\n",
        "  * Метрики, которые будут вычисляться при обучении и тестировании (можно задать несколько, и даже разные для разных выходов)"
      ]
    },
    {
      "cell_type": "code",
      "execution_count": null,
      "metadata": {
        "id": "QCE6ob_yZFPG"
      },
      "outputs": [],
      "source": [
        "model.compile(loss='categorical_crossentropy',\n",
        "              optimizer='adam',\n",
        "              metrics=['accuracy'])"
      ]
    },
    {
      "cell_type": "markdown",
      "metadata": {
        "id": "FyaNZrDryyLY"
      },
      "source": [
        "* Наконец запускаем обучение!\n",
        "  * Для этого передаем на вход метода fit() обучающие данные с метками\n",
        "  * Указываем, какую часть обучающих данных использовать для валидации\n",
        "  * Указываем размер пакета данных для одной итерации оптимизации\n",
        "  * Указываем количество эпох\n",
        "* Выход - история обучения (потом проверим)"
      ]
    },
    {
      "cell_type": "code",
      "execution_count": null,
      "metadata": {
        "colab": {
          "background_save": true
        },
        "id": "p33QVUI9ZFPG"
      },
      "outputs": [],
      "source": [
        "history = model.fit(X_train, Y_train, validation_split=0.25, batch_size=32, epochs=10, verbose=1)"
      ]
    },
    {
      "cell_type": "markdown",
      "metadata": {
        "id": "vI_BIA6aztjr"
      },
      "source": [
        "* Посмотрим на историю обучения\n",
        "  * Посмотрим как значения целевой функции потерь, так и на заданную метрику\n",
        "  * Посмотрим и на валидацию так же"
      ]
    },
    {
      "cell_type": "code",
      "execution_count": null,
      "metadata": {
        "id": "kWf0VSeCZFPH"
      },
      "outputs": [],
      "source": [
        "# Plot training & validation metrics (accuracy) values \n",
        "plt.plot(history.history['accuracy'])\n",
        "plt.plot(history.history['val_accuracy'])\n",
        "plt.title('Model accuracy')\n",
        "plt.ylabel('Accuracy')\n",
        "plt.xlabel('Epoch')\n",
        "plt.legend(['Train', 'Val'], loc='upper left')\n",
        "plt.show()\n",
        "\n",
        "# Plot training & validation loss values\n",
        "plt.plot(history.history['loss'])\n",
        "plt.plot(history.history['val_loss'])\n",
        "plt.title('Model loss')\n",
        "plt.ylabel('Loss')\n",
        "plt.xlabel('Epoch')\n",
        "plt.legend(['Train', 'Val'], loc='upper left')\n",
        "plt.show()"
      ]
    },
    {
      "cell_type": "markdown",
      "metadata": {
        "id": "_-aOsIcH0WSr"
      },
      "source": [
        "* Посчитаем функцию потерь и метрику на тесте с помощью метода evaluate()"
      ]
    },
    {
      "cell_type": "code",
      "execution_count": null,
      "metadata": {
        "id": "-6Gh5PaJZFPH"
      },
      "outputs": [],
      "source": [
        "score = model.evaluate(X_test, Y_test, verbose=0)\n",
        "# score = [loss, accuracy]\n",
        "print(f'Test accuracy = {score[1]} Test loss = {score[0]}')"
      ]
    },
    {
      "cell_type": "markdown",
      "metadata": {
        "id": "38RIrc430u7Z"
      },
      "source": [
        "* Также можно посчитать вероятности классов по любому входу с помощью метода predict()"
      ]
    },
    {
      "cell_type": "code",
      "execution_count": null,
      "metadata": {
        "id": "Xnqc_0vKZFPI"
      },
      "outputs": [],
      "source": [
        "pred_y = model.predict(X_test, verbose=0)"
      ]
    },
    {
      "cell_type": "markdown",
      "metadata": {
        "id": "hFn5Pf361K2q"
      },
      "source": [
        "* Сравним для случайного изображения из теста его предсказание и правильный ответ"
      ]
    },
    {
      "cell_type": "code",
      "execution_count": null,
      "metadata": {
        "id": "gxVcpCs0eJnm"
      },
      "outputs": [],
      "source": [
        "index = 123\n",
        "corr_ans = y_test[index]\n",
        "pred_ans_categorical = pred_y[index]\n",
        "pred_ans = np.argmax(pred_ans_categorical)\n",
        "print(f'Correct answer = {corr_ans}')\n",
        "print(f'Predicted probabilities = {pred_ans_categorical}')\n",
        "print(f'Predicted class = {pred_ans}')"
      ]
    },
    {
      "cell_type": "markdown",
      "metadata": {
        "id": "IrYZEKro17EC"
      },
      "source": [
        "\n",
        "\n",
        "---\n",
        "\n"
      ]
    },
    {
      "cell_type": "markdown",
      "metadata": {
        "id": "Dzi12W0819Ty"
      },
      "source": [
        "* Более полная информация по встроенным базам данных: [datasets](https://keras.io/api/datasets/)\n",
        "* Более полная информация по встроенным слоям: [layers](https://keras.io/api/layers/)\n",
        "* Более полная информация по функциям работы с моделью: [model](https://keras.io/api/models/model_training_apis/)"
      ]
    }
  ],
  "metadata": {
    "accelerator": "GPU",
    "colab": {
      "collapsed_sections": [],
      "name": "task5.ipynb",
      "provenance": []
    },
    "kernelspec": {
      "display_name": "Python 3",
      "name": "python3"
    },
    "language_info": {
      "name": "python"
    }
  },
  "nbformat": 4,
  "nbformat_minor": 0
}